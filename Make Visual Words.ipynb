{
 "cells": [
  {
   "cell_type": "markdown",
   "metadata": {},
   "source": [
    "# Make Visual Words\n",
    "\n",
    "## Input\n",
    "\n",
    "n-dim descriptor\n",
    "\n",
    "## Process\n",
    "\n",
    "Build cluster.\n",
    "Say, we use k-means clustering. We determine number of clusters. \n",
    "Run k-means clustering. \n",
    "\n",
    "## Output\n",
    "\n",
    "index of visual words, and its cluster's center point. \n",
    "\n",
    "From a given feature, we can use the output information to determine most closest visual words. \n",
    "\n"
   ]
  },
  {
   "cell_type": "code",
   "execution_count": 26,
   "metadata": {
    "collapsed": false
   },
   "outputs": [
    {
     "name": "stdout",
     "output_type": "stream",
     "text": [
      "The autoreload extension is already loaded. To reload it, use:\n",
      "  %reload_ext autoreload\n",
      "16334970\n"
     ]
    }
   ],
   "source": [
    "# Load all features in the dataset. \n",
    "# Q. What if there is excatly same feature many times? do we add it into feature pool? \n",
    "# Q. Does many same feature point affect the result of k-menas clustering?\n",
    "\n",
    "# An image may contain several features, and we need to get all features. \n",
    "\n",
    "\n",
    "% load_ext autoreload\n",
    "% autoreload 2\n",
    "# from utils import oxf5k_feature_reader as feature_reader\n",
    "\n",
    "import numpy as np\n",
    "\n",
    "def feature_reader(feature_bin_path=\"./data/feature/feat_oxc1_hesaff_sift.bin\",\n",
    "                   feature_index_path=\"./data/oxf5k_feature_order.txt\"):\n",
    "    \"\"\"\n",
    "    This method reads official oxf5k feature along with feature order index.\n",
    "    You can see index in the accompanying web site. \n",
    "    \n",
    "    binary file contains 128byte sift feature. It is 128-d integer vector. \n",
    "    \"\"\"\n",
    "#     with open(feature_index_path, \"r\") as index_f:\n",
    "#         image_names = list(map(lambda x: x.strip(), index_f.readlines()))\n",
    "#         print(image_names[:5])\n",
    "#         print(len(image_names))\n",
    "        \n",
    "    features = []    \n",
    "    # Read feature from bin file, and make tuple format. \n",
    "    with open(feature_bin_path, \"rb\") as f:\n",
    "        # Read 128 byte        \n",
    "        raw_binary = f.read(128)\n",
    "        while len(raw_binary) == 128:\n",
    "            dt = np.dtype(np.uint8)\n",
    "            # dt = dt.newbyteorder('>')\n",
    "            descriptor = np.frombuffer(raw_binary, dtype=dt)            \n",
    "            raw_binary = f.read(128)\n",
    "            features.append(descriptor)            \n",
    "            \n",
    "    \n",
    "    return features\n",
    "\n",
    "\n",
    "def load_features_from_dataset():\n",
    "    \"\"\"\n",
    "    \"\"\"\n",
    "    pass\n",
    "\n",
    "all_features = feature_reader()\n",
    "# all_features = load_features_from_dataset()\n",
    "print(len(all_features))"
   ]
  },
  {
   "cell_type": "code",
   "execution_count": 30,
   "metadata": {
    "collapsed": false
   },
   "outputs": [
    {
     "ename": "KeyError",
     "evalue": "'kdtree_index'",
     "output_type": "error",
     "traceback": [
      "\u001b[0;31m---------------------------------------------------------------------------\u001b[0m",
      "\u001b[0;31mKeyError\u001b[0m                                  Traceback (most recent call last)",
      "\u001b[0;32m<ipython-input-30-1c122e5c9a42>\u001b[0m in \u001b[0;36m<module>\u001b[0;34m()\u001b[0m\n\u001b[1;32m      8\u001b[0m \u001b[0;34m\u001b[0m\u001b[0m\n\u001b[1;32m      9\u001b[0m \u001b[0;34m\u001b[0m\u001b[0m\n\u001b[0;32m---> 10\u001b[0;31m \u001b[0mcy\u001b[0m \u001b[0;34m=\u001b[0m \u001b[0mcyflann\u001b[0m\u001b[0;34m.\u001b[0m\u001b[0mFLANNIndex\u001b[0m\u001b[0;34m(\u001b[0m\u001b[0malgorithm\u001b[0m\u001b[0;34m=\u001b[0m\u001b[0;34m'kdtree_index'\u001b[0m\u001b[0;34m)\u001b[0m\u001b[0;34m\u001b[0m\u001b[0m\n\u001b[0m\u001b[1;32m     11\u001b[0m \u001b[0;34m\u001b[0m\u001b[0m\n\u001b[1;32m     12\u001b[0m \u001b[0mcy\u001b[0m\u001b[0;34m.\u001b[0m\u001b[0mbuild_index\u001b[0m\u001b[0;34m(\u001b[0m\u001b[0mdata\u001b[0m\u001b[0;34m)\u001b[0m\u001b[0;34m\u001b[0m\u001b[0m\n",
      "\u001b[0;32m/home/john/Documents/tf1.2/lib/python3.4/site-packages/cyflann/index.pyx\u001b[0m in \u001b[0;36mcyflann.index.FLANNIndex.__init__\u001b[0;34m()\u001b[0m\n\u001b[1;32m    256\u001b[0m \u001b[0;34m\u001b[0m\u001b[0m\n\u001b[1;32m    257\u001b[0m     \u001b[0;32mdef\u001b[0m \u001b[0m__init__\u001b[0m\u001b[0;34m(\u001b[0m\u001b[0mself\u001b[0m\u001b[0;34m,\u001b[0m \u001b[0;34m**\u001b[0m\u001b[0mkwargs\u001b[0m\u001b[0;34m)\u001b[0m\u001b[0;34m:\u001b[0m\u001b[0;34m\u001b[0m\u001b[0m\n\u001b[0;32m--> 258\u001b[0;31m         \u001b[0mself\u001b[0m\u001b[0;34m.\u001b[0m\u001b[0mparams\u001b[0m\u001b[0;34m.\u001b[0m\u001b[0mupdate\u001b[0m\u001b[0;34m(\u001b[0m\u001b[0;34m**\u001b[0m\u001b[0mkwargs\u001b[0m\u001b[0;34m)\u001b[0m\u001b[0;34m\u001b[0m\u001b[0m\n\u001b[0m\u001b[1;32m    259\u001b[0m \u001b[0;34m\u001b[0m\u001b[0m\n\u001b[1;32m    260\u001b[0m     \u001b[0;32mdef\u001b[0m \u001b[0mfree_index\u001b[0m\u001b[0;34m(\u001b[0m\u001b[0mself\u001b[0m\u001b[0;34m)\u001b[0m\u001b[0;34m:\u001b[0m\u001b[0;34m\u001b[0m\u001b[0m\n",
      "\u001b[0;32m/home/john/Documents/tf1.2/lib/python3.4/site-packages/cyflann/index.pyx\u001b[0m in \u001b[0;36mcyflann.index.FLANNParameters.update\u001b[0;34m()\u001b[0m\n\u001b[1;32m    115\u001b[0m             \u001b[0msetattr\u001b[0m\u001b[0;34m(\u001b[0m\u001b[0mself\u001b[0m\u001b[0;34m,\u001b[0m \u001b[0mk\u001b[0m\u001b[0;34m,\u001b[0m \u001b[0mv\u001b[0m\u001b[0;34m)\u001b[0m\u001b[0;34m\u001b[0m\u001b[0m\n\u001b[1;32m    116\u001b[0m         \u001b[0;32mfor\u001b[0m \u001b[0mk\u001b[0m\u001b[0;34m,\u001b[0m \u001b[0mv\u001b[0m \u001b[0;32min\u001b[0m \u001b[0mkwargs\u001b[0m\u001b[0;34m.\u001b[0m\u001b[0miteritems\u001b[0m\u001b[0;34m(\u001b[0m\u001b[0;34m)\u001b[0m\u001b[0;34m:\u001b[0m\u001b[0;34m\u001b[0m\u001b[0m\n\u001b[0;32m--> 117\u001b[0;31m             \u001b[0msetattr\u001b[0m\u001b[0;34m(\u001b[0m\u001b[0mself\u001b[0m\u001b[0;34m,\u001b[0m \u001b[0mk\u001b[0m\u001b[0;34m,\u001b[0m \u001b[0mv\u001b[0m\u001b[0;34m)\u001b[0m\u001b[0;34m\u001b[0m\u001b[0m\n\u001b[0m\u001b[1;32m    118\u001b[0m \u001b[0;34m\u001b[0m\u001b[0m\n\u001b[1;32m    119\u001b[0m     \u001b[0;32mdef\u001b[0m \u001b[0mas_dict\u001b[0m\u001b[0;34m(\u001b[0m\u001b[0mself\u001b[0m\u001b[0;34m)\u001b[0m\u001b[0;34m:\u001b[0m\u001b[0;34m\u001b[0m\u001b[0m\n",
      "\u001b[0;32m/home/john/Documents/tf1.2/lib/python3.4/site-packages/cyflann/index.pyx\u001b[0m in \u001b[0;36mcyflann.index.FLANNParameters.algorithm.__set__\u001b[0;34m()\u001b[0m\n\u001b[1;32m    132\u001b[0m             \u001b[0;32mreturn\u001b[0m \u001b[0malgorithm_t_to_str\u001b[0m\u001b[0;34m[\u001b[0m\u001b[0mself\u001b[0m\u001b[0;34m.\u001b[0m\u001b[0m_this\u001b[0m\u001b[0;34m.\u001b[0m\u001b[0malgorithm\u001b[0m\u001b[0;34m]\u001b[0m\u001b[0;34m\u001b[0m\u001b[0m\n\u001b[1;32m    133\u001b[0m         \u001b[0;32mdef\u001b[0m \u001b[0m__set__\u001b[0m\u001b[0;34m(\u001b[0m\u001b[0mself\u001b[0m\u001b[0;34m,\u001b[0m \u001b[0mstr\u001b[0m \u001b[0malgorithm\u001b[0m\u001b[0;34m)\u001b[0m\u001b[0;34m:\u001b[0m\u001b[0;34m\u001b[0m\u001b[0m\n\u001b[0;32m--> 134\u001b[0;31m             \u001b[0mcdef\u001b[0m \u001b[0malgorithm_t\u001b[0m \u001b[0malgo\u001b[0m \u001b[0;34m=\u001b[0m \u001b[0mstr_to_algorithm_t\u001b[0m\u001b[0;34m[\u001b[0m\u001b[0malgorithm\u001b[0m\u001b[0;34m]\u001b[0m\u001b[0;34m\u001b[0m\u001b[0m\n\u001b[0m\u001b[1;32m    135\u001b[0m             \u001b[0mself\u001b[0m\u001b[0;34m.\u001b[0m\u001b[0m_this\u001b[0m\u001b[0;34m.\u001b[0m\u001b[0malgorithm\u001b[0m \u001b[0;34m=\u001b[0m \u001b[0malgo\u001b[0m\u001b[0;34m\u001b[0m\u001b[0m\n\u001b[1;32m    136\u001b[0m \u001b[0;34m\u001b[0m\u001b[0m\n",
      "\u001b[0;31mKeyError\u001b[0m: 'kdtree_index'"
     ]
    }
   ],
   "source": [
    "import cyflann\n",
    "\n",
    "dim = 128 # SIFT Descript dim. \n",
    "\n",
    "# cycflann simulation\n",
    "data = np.random.normal(scale=100, size=(1000, dim))\n",
    "query = np.random.normal(scale=100, size=(100, dim))\n",
    "\n",
    "\n",
    "cy = cyflann.FLANNIndex(algorithm='kdtree_index')\n",
    "\n",
    "cy.build_index(data)\n",
    "\n",
    "k = 5\n",
    "cy_ids, cy_dists = cy.nn_index(query, k)\n",
    "\n",
    "            \n",
    "def kmeans_clustering(features, num_visual_words=2**16):\n",
    "    \"\"\"\n",
    "    Args:\n",
    "        features\n",
    "        \n",
    "    Return:\n",
    "        list of tuples of (index of visual word, center feature)\n",
    "    \"\"\"\n",
    "    \n",
    "    pass\n",
    "\n",
    "\n",
    "kmeans_info = kmeans_clustering(all_features)"
   ]
  },
  {
   "cell_type": "code",
   "execution_count": 5,
   "metadata": {
    "collapsed": false
   },
   "outputs": [
    {
     "ename": "NameError",
     "evalue": "name 'images' is not defined",
     "output_type": "error",
     "traceback": [
      "\u001b[0;31m---------------------------------------------------------------------------\u001b[0m",
      "\u001b[0;31mNameError\u001b[0m                                 Traceback (most recent call last)",
      "\u001b[0;32m<ipython-input-5-88220ec2899e>\u001b[0m in \u001b[0;36m<module>\u001b[0;34m()\u001b[0m\n\u001b[1;32m      6\u001b[0m \u001b[0;34m\u001b[0m\u001b[0m\n\u001b[1;32m      7\u001b[0m \u001b[0;34m\u001b[0m\u001b[0m\n\u001b[0;32m----> 8\u001b[0;31m \u001b[0;32mfor\u001b[0m \u001b[0mimage\u001b[0m \u001b[0;32min\u001b[0m \u001b[0mimages\u001b[0m\u001b[0;34m:\u001b[0m\u001b[0;34m\u001b[0m\u001b[0m\n\u001b[0m\u001b[1;32m      9\u001b[0m     \u001b[0mvisual_words\u001b[0m \u001b[0;34m=\u001b[0m \u001b[0mget_visual_words\u001b[0m\u001b[0;34m(\u001b[0m\u001b[0mkmeans_info\u001b[0m\u001b[0;34m,\u001b[0m \u001b[0mfeatures\u001b[0m\u001b[0;34m)\u001b[0m\u001b[0;34m\u001b[0m\u001b[0m\n\u001b[1;32m     10\u001b[0m \u001b[0;34m\u001b[0m\u001b[0m\n",
      "\u001b[0;31mNameError\u001b[0m: name 'images' is not defined"
     ]
    }
   ],
   "source": [
    "\n",
    "def get_visual_words(kmeans_info, features):\n",
    "    \"\"\"\n",
    "    convert features to list of visual word index. \n",
    "    \"\"\"\n",
    "    \n",
    "\n",
    "for image in images:\n",
    "    visual_words = get_visual_words(kmeans_info, features)\n",
    "    \n",
    "\n",
    "def save_visual_words_to_file(visual_words, output_dir):\n",
    "    pass\n",
    "    "
   ]
  }
 ],
 "metadata": {
  "kernelspec": {
   "display_name": "tf1.2",
   "language": "python",
   "name": "tf1.2"
  },
  "language_info": {
   "codemirror_mode": {
    "name": "ipython",
    "version": 3
   },
   "file_extension": ".py",
   "mimetype": "text/x-python",
   "name": "python",
   "nbconvert_exporter": "python",
   "pygments_lexer": "ipython3",
   "version": "3.4.3"
  }
 },
 "nbformat": 4,
 "nbformat_minor": 1
}
