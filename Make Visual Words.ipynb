{
 "cells": [
  {
   "cell_type": "markdown",
   "metadata": {},
   "source": [
    "# Make Visual Words\n",
    "\n",
    "## Rquirements\n",
    "\n",
    "k means clustering is memory intensive process. \n",
    "\n",
    "## Input\n",
    "\n",
    "* n-dim descriptors\n",
    "    * For making visual words, which image contains which descriptor is not important. We just do quantization.\n",
    "\n",
    "* Number of visual words\n",
    "\n",
    "## Process\n",
    "\n",
    "Build cluster.\n",
    "Say, we use k-means clustering. We determine number of clusters. \n",
    "Run k-means clustering. \n",
    "We can accelerate speed by using approximate nearest neighbor search such as kd-tree, but we lose accuracy. \n",
    "\n",
    "## Output\n",
    "\n",
    "index of visual words, and its cluster's center point. \n",
    "\n",
    "From a given feature, we can use the output information to determine most closest visual words. \n",
    "\n"
   ]
  },
  {
   "cell_type": "code",
   "execution_count": 1,
   "metadata": {},
   "outputs": [
    {
     "name": "stdout",
     "output_type": "stream",
     "text": [
      "{'clustering_lib': 'pqkmeans',\n",
      " 'flann_args': 'null',\n",
      " 'flann_iter': 10,\n",
      " 'image_descriptor_dict_path': 'image_descriptor_dict_oxc1_hesaff_sift_16M.pkl',\n",
      " 'image_dir': './data/oxford/oxford5k/images',\n",
      " 'pqkmeans_centroids_in_pqcode_save_name': 'centroids_in_pqcodes.npy',\n",
      " 'pqkmeans_codebook_train_size': 1000000,\n",
      " 'pqkmeans_encoder_pq_Ks': 256,\n",
      " 'pqkmeans_encoder_pq_M': 8,\n",
      " 'pqkmeans_encoder_save_name': 'pqencoder.pkl',\n",
      " 'pqkmeans_encoder_type': 'pq',\n",
      " 'pqkmeans_features_in_pqcode_save_name': 'pqcodes.npy',\n",
      " 'subsample_percent': 100,\n",
      " 'vocab_size': 131072,\n",
      " 'work_dir': './output_oxford5k_with_provided_sift_vw_2_17_pqkmeans_1M_codebook_train'}\n",
      "\n",
      "load features...\n",
      "read features from ./data/feature_all_oxford5k/feat_oxc1_hesaff_sift.bin\n",
      "dim of features: 128\n",
      "dtype: uint8\n",
      "data_points: [[ 38  18   4 ...,  45  49  10]\n",
      " [110  50   4 ...,   4  44  43]\n",
      " [102  28   1 ...,  50 110   2]\n",
      " ..., \n",
      " [ 65  83  58 ...,   0   0   3]\n",
      " [ 34  64  70 ...,   1   1  13]\n",
      " [ 22   8  36 ...,  27  12  13]]\n",
      "data_points shape: (16334970, 128)\n",
      "data_points dtype: uint8\n",
      "k (vocab_size, num_centroids): 131072\n",
      "Use PQk-means clustering\n",
      "shape of pqcodebook_training_data: (1000000, 128)\n",
      "Training PQ codes\n",
      "encode with subsapce: 8\n",
      "fitting encoder...\n"
     ]
    },
    {
     "name": "stderr",
     "output_type": "stream",
     "text": [
      "  0%|          | 1/16334970 [00:00<815:03:24,  5.57it/s]"
     ]
    },
    {
     "name": "stdout",
     "output_type": "stream",
     "text": [
      "\n",
      "Extract PQ codes\n",
      "transform whole set\n",
      "data_points_pqcode.shape:\n",
      "(16334970, 8)\n",
      "data_points_pqcode.nbytes:\n",
      "130679760 bytes\n",
      "data_points_pqcode.dtype:\n",
      "uint8\n"
     ]
    },
    {
     "name": "stderr",
     "output_type": "stream",
     "text": [
      "100%|██████████| 16334970/16334970 [04:10<00:00, 65311.94it/s]\n"
     ]
    },
    {
     "name": "stdout",
     "output_type": "stream",
     "text": [
      "\n",
      "Run k-means clustering in PQ codes\n",
      "run k-means with k: 131072\n",
      "clustered len: 16334970\n",
      "\n",
      "done\n"
     ]
    }
   ],
   "source": [
    "# Load all features in the dataset. \n",
    "# Q. What if there is excatly same feature many times? do we add it into feature pool? \n",
    "# Q. Does many same feature point affect the result of k-menas clustering?\n",
    "\n",
    "# An image may contain several features, and we need to get all features. \n",
    "\n",
    "%load_ext autoreload\n",
    "%autoreload 2\n",
    "\n",
    "from src import visual_word_generation\n",
    "\n",
    "config_path='./config/visual_word_gen.config'\n",
    "config = visual_word_generation.read_config(config_path)\n",
    "visual_word_generation.main(config)"
   ]
  },
  {
   "cell_type": "code",
   "execution_count": 1,
   "metadata": {},
   "outputs": [
    {
     "name": "stdout",
     "output_type": "stream",
     "text": [
      "hi\n"
     ]
    }
   ],
   "source": [
    "print(\"hi\")"
   ]
  },
  {
   "cell_type": "code",
   "execution_count": null,
   "metadata": {
    "scrolled": true
   },
   "outputs": [],
   "source": [
    "%%time\n",
    "import pyflann\n",
    "\n",
    "flann = pyflann.FLANN(cores=5)\n",
    "\n",
    "# max_iter = config['flann_iter']\n",
    "max_iter = 1\n",
    "print(\"run k-means clustering with FLANN. max_itre:{}\".format(max_iter))\n",
    "centers = flann.kmeans(data_points, k, max_iter, cores=0)"
   ]
  },
  {
   "cell_type": "markdown",
   "metadata": {},
   "source": [
    "----------- Below codes are legacy ------------------"
   ]
  },
  {
   "cell_type": "code",
   "execution_count": null,
   "metadata": {
    "scrolled": true
   },
   "outputs": [],
   "source": [
    "%%time\n",
    "clustering_utils.run_kmeans_clustering(data_points, k, init_center_points=center_points, knn_method=\"naive\")"
   ]
  },
  {
   "cell_type": "markdown",
   "metadata": {},
   "source": [
    "# Way to speed up codebook learning\n",
    "\n",
    "* [Annoy]() to assign centroids for all features\n",
    "* FLANN vs ANNOY\n"
   ]
  },
  {
   "cell_type": "code",
   "execution_count": null,
   "metadata": {},
   "outputs": [],
   "source": [
    "%%time\n",
    "center_points = clustering_utils.run_kmeans_clustering(data_points, k, max_iter=15, init_center_points=center_points, knn_method=\"kdtree\")"
   ]
  },
  {
   "cell_type": "code",
   "execution_count": null,
   "metadata": {
    "scrolled": true
   },
   "outputs": [],
   "source": [
    "%%time\n",
    "clustering_utils.run_kmeans_clustering(data_points.astype(float), k, init_center_points=center_points, knn_method=\"kdtree\")"
   ]
  },
  {
   "cell_type": "code",
   "execution_count": null,
   "metadata": {},
   "outputs": [],
   "source": [
    "%%time\n",
    "clustering_utils.run_kmeans_clustering(data_points, k, init_center_points=center_points, knn_method=\"kdtree\")"
   ]
  }
 ],
 "metadata": {
  "kernelspec": {
   "display_name": "Python 3",
   "language": "python",
   "name": "python3"
  },
  "language_info": {
   "codemirror_mode": {
    "name": "ipython",
    "version": 3
   },
   "file_extension": ".py",
   "mimetype": "text/x-python",
   "name": "python",
   "nbconvert_exporter": "python",
   "pygments_lexer": "ipython3",
   "version": "3.6.3"
  }
 },
 "nbformat": 4,
 "nbformat_minor": 1
}
