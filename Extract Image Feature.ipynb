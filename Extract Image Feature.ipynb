{
 "cells": [
  {
   "cell_type": "markdown",
   "metadata": {},
   "source": [
    "# Extract Image Feature"
   ]
  },
  {
   "cell_type": "code",
   "execution_count": null,
   "metadata": {},
   "outputs": [],
   "source": []
  },
  {
   "cell_type": "code",
   "execution_count": null,
   "metadata": {},
   "outputs": [],
   "source": [
    "import os\n",
    "import numpy as np\n",
    "from multiprocessing import Pool\n",
    "from utils.image_utils import load_image\n",
    "from tqdm import tqdm_notebook as tqdm # you need to install ipywidgets with `pip install ipywidgets`\n",
    "\n",
    "IMAGE_DIR = './data/oxford5k_images'\n",
    "def get_image_feature(image_np):\n",
    "    return np.zeros((100, ))\n",
    "\n",
    "def get_list_of_images(image_dir):\n",
    "    \"\"\"\n",
    "    return list of image path (full path)\n",
    "    \"\"\"\n",
    "    paths = []\n",
    "    for filename in os.listdir(image_dir):\n",
    "        paths.append(os.path.join(image_dir, filename))\n",
    "    paths.sort()\n",
    "    return paths\n",
    "\n",
    "\n",
    "features = [] # list of tuple of (image_path, feature_np_1d)\n",
    "image_path_list = get_list_of_images(IMAGE_DIR)\n",
    "\n",
    "\n",
    "# remove this after testing\n",
    "image_path_list = image_path_list[:5]\n",
    "\n",
    "\n",
    "pool = Pool(processes=8)\n",
    "def parallel_task(image_path):\n",
    "    image_np = load_image(image_path)\n",
    "    feature = get_image_feature(image_np)    \n",
    "    return (image_path, feature)\n",
    "\n",
    "for result in tqdm(pool.imap_unordered(parallel_task, image_path_list), total=len(image_path_list)):\n",
    "    features.append(result)    \n",
    "\n",
    "\n",
    "    "
   ]
  },
  {
   "cell_type": "code",
   "execution_count": 9,
   "metadata": {},
   "outputs": [
    {
     "name": "stdout",
     "output_type": "stream",
     "text": [
      "feature extraction finished. 5\n",
      "('./data/oxford5k_images/all_souls_000002.jpg', array([ 0.,  0.,  0.,  0.,  0.,  0.,  0.,  0.,  0.,  0.,  0.,  0.,  0.,\n",
      "        0.,  0.,  0.,  0.,  0.,  0.,  0.,  0.,  0.,  0.,  0.,  0.,  0.,\n",
      "        0.,  0.,  0.,  0.,  0.,  0.,  0.,  0.,  0.,  0.,  0.,  0.,  0.,\n",
      "        0.,  0.,  0.,  0.,  0.,  0.,  0.,  0.,  0.,  0.,  0.,  0.,  0.,\n",
      "        0.,  0.,  0.,  0.,  0.,  0.,  0.,  0.,  0.,  0.,  0.,  0.,  0.,\n",
      "        0.,  0.,  0.,  0.,  0.,  0.,  0.,  0.,  0.,  0.,  0.,  0.,  0.,\n",
      "        0.,  0.,  0.,  0.,  0.,  0.,  0.,  0.,  0.,  0.,  0.,  0.,  0.,\n",
      "        0.,  0.,  0.,  0.,  0.,  0.,  0.,  0.,  0.]))\n"
     ]
    }
   ],
   "source": [
    "print('feature extraction finished. {NUM}'.format(NUM=len(features)))\n",
    "print(features[0])"
   ]
  }
 ],
 "metadata": {
  "kernelspec": {
   "display_name": "tf1.3_global",
   "language": "python",
   "name": "tf1.3_global"
  },
  "language_info": {
   "codemirror_mode": {
    "name": "ipython",
    "version": 3
   },
   "file_extension": ".py",
   "mimetype": "text/x-python",
   "name": "python",
   "nbconvert_exporter": "python",
   "pygments_lexer": "ipython3",
   "version": "3.5.2"
  }
 },
 "nbformat": 4,
 "nbformat_minor": 2
}
