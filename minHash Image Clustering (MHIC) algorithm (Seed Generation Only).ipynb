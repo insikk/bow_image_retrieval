{
 "cells": [
  {
   "cell_type": "markdown",
   "metadata": {},
   "source": [
    "# minHash Image Clustering (MHIC) algorithm (Seed Generation Only)\n",
    "\n",
    "Implementation based on \n",
    "* [Large-Scale Discovery of Spatially Related Images](ieeexplore.ieee.org/iel5/34/4359286/05235143.pdf) by Ondrej Chum and Jiri Matas\n",
    "* [Scalable Near Identical Image and Shot Detection - Microsoft](https://www.microsoft.com/en-us/research/wp-content/uploads/2016/02/civr2007.pdf) by Ondrej Chum, James Philbin, Michael Isard, Andrew Zisserman\n",
    "\n",
    "## Purpose\n",
    "\n",
    "If we see a similar image cluster as a connected compoenent, images are vertex. \n",
    "We have to find edges to get image cluster. minHash can be used to find subset of the edges quickly. \n",
    "\n",
    "Afterward, you may use image retrieval system to complete the connected component. \n",
    "\n",
    "\n",
    "## Requirements\n",
    "\n",
    "* Visual words index list for each image"
   ]
  },
  {
   "cell_type": "code",
   "execution_count": null,
   "metadata": {
    "scrolled": true
   },
   "outputs": [],
   "source": [
    "%load_ext autoreload\n",
    "%autoreload 2\n",
    "\n",
    "from src import mhic_seed_generation\n",
    "\n",
    "config_path='./oxf5k_extracted_13M_rootsift_1M_vocab_pqkmeans_1M_codebook_train/mhic_seed_gen.config'\n",
    "config = mhic_seed_generation.read_config(config_path)\n",
    "mhic_seed_generation.main(config)"
   ]
  },
  {
   "cell_type": "code",
   "execution_count": null,
   "metadata": {
    "scrolled": false
   },
   "outputs": [],
   "source": [
    "import os\n",
    "import pickle\n",
    "from tqdm import tqdm\n",
    "import numpy as np\n",
    "\n",
    "similar_pairs = pickle.load(open(os.path.join(config[\"work_dir\"], config[\"output_similar_pair_result\"]), 'rb'))\n",
    "ransac_result = pickle.load(open(os.path.join(config[\"work_dir\"], config[\"output_ransac_result\"]), 'rb'))\n",
    "\n",
    "# with open(config[\"image_descriptor_dict_path\"], 'rb') as f:\n",
    "#     # key: image_name, value: 2d numpy array of shape (num_descriptor, dim_descriptor)\n",
    "#     image_descriptor_dict = pickle.load(f)\n",
    "\n",
    "# ransac_config = config\n",
    "\n",
    "# def parallel_task(val):\n",
    "#     image_names, score = val\n",
    "#     np_keypoints, des1 = image_descriptor_dict[image_names[0]]\n",
    "#     kp1 = mhic_seed_generation.convert_to_cv_keypoints(np_keypoints)\n",
    "#     np_keypoints, des2 = image_descriptor_dict[image_names[1]]\n",
    "#     kp2 = mhic_seed_generation.convert_to_cv_keypoints(np_keypoints)\n",
    "    \n",
    "#     inlier = mhic_seed_generation.get_ransac_inlier(kp1, kp2, des1, des2, False, ransac_config[\"ransac_match_method\"], ransac_config[\"ransac_min_samples\"], ransac_config[\"ransac_residual_threshold\"], ransac_config[\"ransac_max_trials\"])\n",
    "#     num_inlier = len(inlier)\n",
    "#     return (image_cluster, score, num_inlier)\n",
    "            \n",
    "            \n",
    "# ransac_result = []\n",
    "# # similar_pairs = list(filter(lambda x: filter_keep_similar_only(x[1], config[\"THRESHOLD_DATAMINING_SIMILARITY_MIN\"], config[\"THRESHOLD_DATAMINING_SIMILARITY_MAX\"]), similar_pairs))\n",
    "# for pair in tqdm(similar_pairs):\n",
    "#     result = parallel_task(pair)\n",
    "#     if result is not None:\n",
    "#         ransac_result.append(result)\n",
    "\n",
    "# # ransac_result = pickle.load(open(os.path.join(config[\"work_dir\"], config[\"output_ransac_result\"]), 'rb'))\n",
    "# print(ransac_result[:5])"
   ]
  },
  {
   "cell_type": "code",
   "execution_count": null,
   "metadata": {
    "scrolled": false
   },
   "outputs": [],
   "source": [
    "# IMAGE_DIR = \"./data/oxford5k_images\"\n",
    "IMAGE_DIR = \"./data/oxford/oxford5k/images\"\n",
    "ransac_result.sort(key=lambda x: x[2], reverse=False)\n",
    "for image_cluster, score, num_inlier in ransac_result[10:20]:\n",
    "    print(\"pair: {}, score: {}, num_inlier: {}\".format(image_cluster, score, num_inlier))\n",
    "    # show_image_cluster(IMAGE_DIR, image_cluster)\n",
    "    mhic_seed_generation.show_image_pair_ransac(config, image_cluster)\n",
    "    print() "
   ]
  },
  {
   "cell_type": "code",
   "execution_count": null,
   "metadata": {
    "scrolled": false
   },
   "outputs": [],
   "source": [
    "import random\n",
    "def show_image_cluster(image_dir, image_names):\n",
    "    \"\"\"\n",
    "    show image cluster for oxford 5k dataset\n",
    "    \"\"\"\n",
    "    # Visualize images assigned to this cluster    \n",
    "    from PIL import Image\n",
    "    import matplotlib.pyplot as plt\n",
    "    \n",
    "    imgs = []    \n",
    "    for image_name in image_names:\n",
    "        image_name = image_name.replace(\"oxc1_\", \"\") + \".jpg\"\n",
    "        image_path = os.path.join(image_dir, image_name)\n",
    "        img = Image.open(image_path)\n",
    "        imgs.append(img)            \n",
    "        \n",
    "    cols = 5\n",
    "    imgs = imgs[:cols]\n",
    "    plt.figure(figsize=(20, 5))\n",
    "    for i, img in enumerate(imgs):\n",
    "        plt.subplot(1, cols, i + 1)\n",
    "        plt.imshow(img)\n",
    "    plt.show()\n",
    "\n",
    "    \n",
    "# IMAGE_DIR = \"./data/oxford5k_images\"\n",
    "IMAGE_DIR = \"./data/oxford/oxford5k/images\"\n",
    "ransac_result.sort(key= lambda x: x[2], reverse=True)\n",
    "for image_cluster, score, inlier in ransac_result:\n",
    "    print(\"pair: {}, score: {}, inlier: {}\".format(image_cluster, score, inlier))\n",
    "    show_image_cluster(IMAGE_DIR, image_cluster)\n",
    "    print('\\n')    \n",
    "    \n",
    "    \n",
    "# # IMAGE_DIR = \"./data/oxford5k_images\"\n",
    "# IMAGE_DIR = \"./data/oxford/oxford5k/images\"\n",
    "# sample_count = 10\n",
    "# print(\"Sampling from irrelevant images.\")\n",
    "# target_seq = similar_pairs[:count_irr]\n",
    "# k = min(sample_count, len(target_seq))\n",
    "# for image_cluster, score in random.sample(target_seq, k):\n",
    "#     print(\"pair: {}, score: {}\".format(image_cluster, score))\n",
    "#     show_image_cluster(IMAGE_DIR, image_cluster)\n",
    "#     print('\\n')    \n",
    "    "
   ]
  },
  {
   "cell_type": "code",
   "execution_count": null,
   "metadata": {
    "scrolled": false
   },
   "outputs": [],
   "source": [
    "\n",
    "print(\"Sampling from similar images.\")\n",
    "target_seq = similar_pairs[count_irr:count_irr+count_sim]\n",
    "k = min(sample_count, len(target_seq))\n",
    "target_seq.sort(key=lambda x: x[1], reverse=True)\n",
    "for image_cluster, score in target_seq:\n",
    "    print(\"pair: {}, score: {}\".format(image_cluster, score))\n",
    "    show_image_cluster(IMAGE_DIR, image_cluster)\n",
    "    print('\\n')    \n",
    "    \n",
    "print(\"Sampling from near-duplicates images.\")\n",
    "target_seq = similar_pairs[count_irr+count_sim:]\n",
    "target_seq.sort(key=lambda x: x[1], reverse=True)\n",
    "k = min(sample_count, len(target_seq))\n",
    "for image_cluster, score in random.sample(target_seq, k):\n",
    "    print(\"pair: {}, score: {}\".format(image_cluster, score))\n",
    "    show_image_cluster(IMAGE_DIR, image_cluster)\n",
    "    print('\\n')    "
   ]
  }
 ],
 "metadata": {
  "kernelspec": {
   "display_name": "Python 3",
   "language": "python",
   "name": "python3"
  },
  "language_info": {
   "codemirror_mode": {
    "name": "ipython",
    "version": 3
   },
   "file_extension": ".py",
   "mimetype": "text/x-python",
   "name": "python",
   "nbconvert_exporter": "python",
   "pygments_lexer": "ipython3",
   "version": "3.6.3"
  }
 },
 "nbformat": 4,
 "nbformat_minor": 2
}
